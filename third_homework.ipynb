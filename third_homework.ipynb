{
 "cells": [
  {
   "attachments": {},
   "cell_type": "markdown",
   "metadata": {},
   "source": [
    "# Sorting"
   ]
  },
  {
   "cell_type": "code",
   "execution_count": 5,
   "metadata": {},
   "outputs": [],
   "source": [
    "import time\n",
    "import numpy as np\n",
    "np.random.seed(0)"
   ]
  },
  {
   "cell_type": "code",
   "execution_count": 6,
   "metadata": {},
   "outputs": [],
   "source": [
    "data = np.random.randint(1,10000,17000)"
   ]
  },
  {
   "attachments": {},
   "cell_type": "markdown",
   "metadata": {},
   "source": [
    "# Insertion sort"
   ]
  },
  {
   "cell_type": "code",
   "execution_count": 7,
   "metadata": {},
   "outputs": [],
   "source": [
    "def insertion_sort(array):\n",
    "    start = time.time()\n",
    "    #Implement Insertion Sort\n",
    "    for i in range(1, len(array)):\n",
    "        # Assign the current element to a variable 'key_item'\n",
    "        key_item = array[i]\n",
    "        # Set up a variable 'j' to keep track of the position in the sorted portion of the array\n",
    "        j = i - 1\n",
    "        # While 'j' is not less than zero and 'key_item' is less than the element at position 'j'\n",
    "        while j >= 0 and key_item < array[j]:\n",
    "            # Shift the element at position 'j' one position to the right\n",
    "            array[j + 1] = array[j]\n",
    "            # Decrement 'j' to move left one position in the sorted portion\n",
    "            j -= 1\n",
    "        # Insert 'key_item' into the correct position in the sorted portion\n",
    "        array[j + 1] = key_item\n",
    "    end = time.time()\n",
    "    print(\"The time of execution of above program is :\", (end-start) * 10**3, \"ms\", \"for a size of \", len(array))\n",
    "    return array\n",
    "    "
   ]
  },
  {
   "cell_type": "code",
   "execution_count": 8,
   "metadata": {},
   "outputs": [
    {
     "name": "stdout",
     "output_type": "stream",
     "text": [
      "The time of execution of above program is : 18394.965648651123 ms for a size of  17000\n"
     ]
    }
   ],
   "source": [
    "arr= insertion_sort(data)"
   ]
  },
  {
   "cell_type": "code",
   "execution_count": 9,
   "metadata": {},
   "outputs": [
    {
     "data": {
      "text/plain": [
       "array([   1,    1,    1, ..., 9999, 9999, 9999])"
      ]
     },
     "execution_count": 9,
     "metadata": {},
     "output_type": "execute_result"
    }
   ],
   "source": [
    "arr"
   ]
  },
  {
   "attachments": {},
   "cell_type": "markdown",
   "metadata": {},
   "source": [
    "# Merge array first implementation"
   ]
  },
  {
   "cell_type": "code",
   "execution_count": 24,
   "metadata": {},
   "outputs": [],
   "source": [
    "def merge(arr,left,right,mid):\n",
    "    start = time.time()\n",
    "    #Auxiliar array\n",
    "    new_arr = np.zeros(len(arr))\n",
    "    i = left\n",
    "    j = mid + 1\n",
    "    k = left\n",
    "    while i <= mid and j <= right:\n",
    "        if arr[i] < arr[j]:\n",
    "            new_arr[k] = arr[i]\n",
    "            i += 1\n",
    "        else:\n",
    "            new_arr[k] = arr[j]\n",
    "            j += 1\n",
    "        k += 1\n",
    "\n",
    "    while i <= mid:\n",
    "        new_arr[k] = arr[i]\n",
    "        i += 1\n",
    "        k += 1\n",
    "\n",
    "    while j <= right:\n",
    "        new_arr[k] = arr[j]\n",
    "        j += 1\n",
    "        k += 1\n",
    "\n",
    "    for i in range(left,right + 1):\n",
    "        arr[i] = new_arr[i]\n",
    "    \n",
    "    end = time.time()\n",
    "    #print(\"The time of execution of above program is :\", (end-start) * 10**3, \"ms\", \"for a size of \", len(arr))\n",
    "    return arr\n"
   ]
  },
  {
   "cell_type": "code",
   "execution_count": 21,
   "metadata": {},
   "outputs": [
    {
     "name": "stdout",
     "output_type": "stream",
     "text": [
      "The time of execution of above program is : 5.092859268188477 ms for a size of  17000\n"
     ]
    }
   ],
   "source": [
    "data = np.random.randint(1,10000,17000)\n",
    "left = 0\n",
    "right = len(data) - 1\n",
    "mid = (left + right) // 2\n",
    "arr= merge(arr,left,right,mid)\n"
   ]
  },
  {
   "attachments": {},
   "cell_type": "markdown",
   "metadata": {},
   "source": [
    "# Merge with division"
   ]
  },
  {
   "cell_type": "code",
   "execution_count": 22,
   "metadata": {},
   "outputs": [],
   "source": [
    "def merge_sort(arr,left,right):\n",
    "    if left < right:\n",
    "        mid = (left + right) // 2\n",
    "        merge_sort(arr,left,mid)\n",
    "        merge_sort(arr,mid + 1,right)\n",
    "        merge(arr,left,right,mid)\n",
    "    return arr\n"
   ]
  },
  {
   "cell_type": "code",
   "execution_count": 25,
   "metadata": {},
   "outputs": [
    {
     "name": "stdout",
     "output_type": "stream",
     "text": [
      "[ 573 2302 5791 ... 9265 7091 9692]\n",
      "The time of execution of above program is : 186.0675811767578 ms for a size of  17000\n",
      "[   1    2    2 ... 9996 9996 9997]\n"
     ]
    }
   ],
   "source": [
    "data = np.random.randint(1,10000,17000)\n",
    "left = 0\n",
    "right = len(data) - 1\n",
    "print(data)\n",
    "start = time.time()\n",
    "arr= merge_sort(data,left,right)\n",
    "end = time.time()\n",
    "print(\"The time of execution of above program is :\", (end-start) * 10**3, \"ms\", \"for a size of \", len(arr))\n",
    "print(arr)"
   ]
  },
  {
   "attachments": {},
   "cell_type": "markdown",
   "metadata": {},
   "source": [
    "### Algorithm of your choice: RadixSort\n",
    "\n",
    "#### Complexity O (w*n)"
   ]
  },
  {
   "cell_type": "code",
   "execution_count": 14,
   "metadata": {},
   "outputs": [],
   "source": [
    "def radix_sort(arr):\n",
    "    max_element = max(arr)\n",
    "    num_digits = len(str(max_element))\n",
    "    for i in range(num_digits):\n",
    "        arr = counting_sort_on_digit(arr, i)\n",
    "    return arr\n",
    "\n",
    "def counting_sort_on_digit(arr, digit):\n",
    "    n = len(arr)\n",
    "    output = [0] * n\n",
    "    count = [0] * 10\n",
    "    for i in range(n):\n",
    "        index = get_digit(arr[i], digit)\n",
    "        count[index] += 1\n",
    "    for i in range(1, 10):\n",
    "        count[i] += count[i - 1]\n",
    "    for i in range(n - 1, -1, -1):\n",
    "        index = get_digit(arr[i], digit)\n",
    "        output[count[index] - 1] = arr[i]\n",
    "        count[index] -= 1\n",
    "    return output\n",
    "\n",
    "def get_digit(num, digit):\n",
    "    return (num // 10**digit) % 10\n"
   ]
  },
  {
   "cell_type": "code",
   "execution_count": 26,
   "metadata": {},
   "outputs": [
    {
     "name": "stdout",
     "output_type": "stream",
     "text": [
      "The time of execution of above program is : 62.029123306274414 ms for a size of  17000\n"
     ]
    }
   ],
   "source": [
    "data= np.random.randint(1,10000,17000)\n",
    "\n",
    "start = time.time()\n",
    "arr=radix_sort(data)\n",
    "end = time.time()\n",
    "print(\"The time of execution of above program is :\", (end-start) * 10**3, \"ms\", \"for a size of \", len(arr))"
   ]
  },
  {
   "attachments": {},
   "cell_type": "markdown",
   "metadata": {},
   "source": [
    "## Conclusion"
   ]
  },
  {
   "attachments": {},
   "cell_type": "markdown",
   "metadata": {},
   "source": [
    "It is very important to take into account the complexity of the algorithms when implementing them. This can make a code run for 1 year or 1 hour. It is always necessary to have a balance between software and hardware. First check that the algorithm is as optimal as possible in terms of code, then optimize the hardware if the code is too computationally heavy."
   ]
  }
 ],
 "metadata": {
  "kernelspec": {
   "display_name": "proba",
   "language": "python",
   "name": "python3"
  },
  "language_info": {
   "codemirror_mode": {
    "name": "ipython",
    "version": 3
   },
   "file_extension": ".py",
   "mimetype": "text/x-python",
   "name": "python",
   "nbconvert_exporter": "python",
   "pygments_lexer": "ipython3",
   "version": "3.9.16"
  },
  "orig_nbformat": 4,
  "vscode": {
   "interpreter": {
    "hash": "2dff9fdaf7b94c5adc137ae9efacb6eb17db3d464d727aaf2eb000ed4ad138c2"
   }
  }
 },
 "nbformat": 4,
 "nbformat_minor": 2
}
