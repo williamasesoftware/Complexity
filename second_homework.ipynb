{
 "cells": [
  {
   "attachments": {},
   "cell_type": "markdown",
   "metadata": {},
   "source": [
    "# Selection sort algorithm"
   ]
  },
  {
   "attachments": {},
   "cell_type": "markdown",
   "metadata": {},
   "source": [
    "<ol>\n",
    "  <li>Get the length of the array.</li>\n",
    "  <li>Loop through the array n - 1 times (Python), where n is the length of the array.</li>\n",
    "  <li>In each iteration of the outer loop, initialize min_index to the current index.</li>\n",
    "  <li>Loop through the rest of the unsorted portion of the array.</li>\n",
    "  <li>In each iteration of the inner loop, compare the current value with the current minimum value.</li>\n",
    "  <li>If the current value is less than the current minimum, update min_index with the index of the current value.</li>\n",
    "  <li>After the inner loop is completed, check if the minimum value is not at the current index.</li>\n",
    "  <li>If the minimum value is not at the current index, swap the current value with the minimum value.</li>\n",
    "  <li>Repeat steps 3 to 8 until all elements have been sorted.</li>\n",
    "  <li>Return the sorted array.</li>\n",
    "</ol>\n",
    "\n"
   ]
  },
  {
   "cell_type": "code",
   "execution_count": 7,
   "metadata": {},
   "outputs": [],
   "source": [
    "def selection_sort(array):\n",
    "    # Get the length of the array\n",
    "    n = len(array)\n",
    "    \n",
    "    # Loop through the array n - 1 times\n",
    "    for i in range(n - 1):\n",
    "        # Initialize min_index to the current index\n",
    "        min_index = i\n",
    "        \n",
    "        # Loop through the rest of the unsorted portion of the array\n",
    "        for j in range(i + 1, n):\n",
    "            # If the current value is less than the current minimum, update min_index\n",
    "            if array[j] < array[min_index]:\n",
    "                min_index = j\n",
    "        \n",
    "        # If the minimum value is not at the current index, swap the current value with the minimum value\n",
    "        if min_index != i:\n",
    "            array[i], array[min_index] = array[min_index], array[i]\n",
    "    \n",
    "    # Return the sorted array\n",
    "    return array\n",
    "\n",
    "# Complexity of the algorithm: O(n^2)"
   ]
  },
  {
   "cell_type": "code",
   "execution_count": 6,
   "metadata": {},
   "outputs": [
    {
     "name": "stdout",
     "output_type": "stream",
     "text": [
      "[11, 12, 22, 25, 64]\n"
     ]
    }
   ],
   "source": [
    "array=[64,25,12,22,11] # example array\n",
    "sorted_array=selection_sort(array) # call to the function\n",
    "print(sorted_array) # sorted array implemented selection sort algorithm"
   ]
  },
  {
   "attachments": {},
   "cell_type": "markdown",
   "metadata": {},
   "source": [
    "## Write the pseudocode to insertion sort and calculate the complexity"
   ]
  },
  {
   "cell_type": "code",
   "execution_count": 8,
   "metadata": {},
   "outputs": [
    {
     "name": "stdout",
     "output_type": "stream",
     "text": [
      "[1, 2, 4, 5, 6, 7]\n"
     ]
    }
   ],
   "source": [
    "def insertion_sort(array):\n",
    "    # Loop through all elements in the array, starting from the second element\n",
    "    for i in range(1, len(array)):\n",
    "        # Assign the current element to a variable 'key_item'\n",
    "        key_item = array[i]\n",
    "        # Set up a variable 'j' to keep track of the position in the sorted portion of the array\n",
    "        j = i - 1\n",
    "        # While 'j' is not less than zero and 'key_item' is less than the element at position 'j'\n",
    "        while j >= 0 and key_item < array[j]:\n",
    "            # Shift the element at position 'j' one position to the right\n",
    "            array[j + 1] = array[j]\n",
    "            # Decrement 'j' to move left one position in the sorted portion\n",
    "            j -= 1\n",
    "        # Insert 'key_item' into the correct position in the sorted portion\n",
    "        array[j + 1] = key_item\n",
    "    # Return the sorted array\n",
    "    return array\n",
    "\n",
    "# Complexity of the algorithm: O(n^2)\n",
    "\n",
    "array = [4,6,1,7,2,5]# example array\n",
    "sorted_array=selection_sort(array) # call to the function\n",
    "print(sorted_array) # sorted array implemented selection sort algorithm\n",
    "\n"
   ]
  },
  {
   "attachments": {},
   "cell_type": "markdown",
   "metadata": {},
   "source": [
    "## Write the pseudocode of a method that given a number n, returns the list of fibonacci numbers, from 0 to n. Calculate the complexity"
   ]
  },
  {
   "cell_type": "code",
   "execution_count": 13,
   "metadata": {},
   "outputs": [
    {
     "name": "stdout",
     "output_type": "stream",
     "text": [
      "[1, 1, 2, 3, 5, 8, 13, 21, 34, 55, 89, 144, 233, 377, 610, 987]\n"
     ]
    }
   ],
   "source": [
    "def fibonacci_sequence(n):\n",
    "    # Initialize the list to store the fibonacci numbers\n",
    "    fib_list = []\n",
    "    # The first two fibonacci numbers are 0 and 1\n",
    "    a, b = 0, 1\n",
    "    # Loop until the next number in the sequence is greater than n\n",
    "    while b <= n:\n",
    "        # Append the next number in the sequence to the list\n",
    "        fib_list.append(b)\n",
    "        # Generate the next number in the sequence\n",
    "        a, b = b, a + b\n",
    "    # Return the list of fibonacci numbers\n",
    "    return fib_list\n",
    "\n",
    "# Complexity of the algorithm: O(n)\n",
    "\n",
    "fibonacci=fibonacci_sequence(1000)\n",
    "print(fibonacci)"
   ]
  },
  {
   "attachments": {},
   "cell_type": "markdown",
   "metadata": {},
   "source": [
    "## Write an algorithm that finds the convex hull"
   ]
  },
  {
   "cell_type": "code",
   "execution_count": 33,
   "metadata": {},
   "outputs": [
    {
     "name": "stdout",
     "output_type": "stream",
     "text": [
      "[[0.04121662 0.49062288]\n",
      " [0.08028682 0.80551067]\n",
      " [0.13242521 0.9685304 ]\n",
      " [0.32439958 0.99485943]\n",
      " [0.98506301 0.97068196]\n",
      " [0.94078237 0.6736039 ]\n",
      " [0.92106907 0.5669933 ]\n",
      " [0.64970132 0.1143752 ]\n",
      " [0.48416169 0.08479047]\n",
      " [0.14816637 0.11477272]\n",
      " [0.09209493 0.22858861]]\n"
     ]
    },
    {
     "ename": "AttributeError",
     "evalue": "'numpy.ndarray' object has no attribute 'simplices'",
     "output_type": "error",
     "traceback": [
      "\u001b[1;31m---------------------------------------------------------------------------\u001b[0m",
      "\u001b[1;31mAttributeError\u001b[0m                            Traceback (most recent call last)",
      "Cell \u001b[1;32mIn[33], line 46\u001b[0m\n\u001b[0;32m     44\u001b[0m \u001b[39mimport\u001b[39;00m \u001b[39mmatplotlib\u001b[39;00m\u001b[39m.\u001b[39;00m\u001b[39mpyplot\u001b[39;00m \u001b[39mas\u001b[39;00m \u001b[39mplt\u001b[39;00m\n\u001b[0;32m     45\u001b[0m plt\u001b[39m.\u001b[39mplot(points[:,\u001b[39m0\u001b[39m], points[:,\u001b[39m1\u001b[39m], \u001b[39m'\u001b[39m\u001b[39mo\u001b[39m\u001b[39m'\u001b[39m)\n\u001b[1;32m---> 46\u001b[0m \u001b[39mfor\u001b[39;00m simplex \u001b[39min\u001b[39;00m hull\u001b[39m.\u001b[39;49msimplices:\n\u001b[0;32m     47\u001b[0m     plt\u001b[39m.\u001b[39mplot(points[simplex, \u001b[39m0\u001b[39m], points[simplex, \u001b[39m1\u001b[39m], \u001b[39m'\u001b[39m\u001b[39mk-\u001b[39m\u001b[39m'\u001b[39m)\n\u001b[0;32m     49\u001b[0m \u001b[39m\"\"\"\u001b[39;00m\n\u001b[0;32m     50\u001b[0m \u001b[39mplt.plot(points[:,0], points[:,1], 'o')\u001b[39;00m\n\u001b[0;32m     51\u001b[0m \u001b[39mfor simplex in hull.simplices:\u001b[39;00m\n\u001b[0;32m     52\u001b[0m \u001b[39m    plt.plot(points[simplex, 0], points[simplex, 1], 'k-')\u001b[39;00m\n\u001b[0;32m     53\u001b[0m \u001b[39m\"\"\"\u001b[39;00m\n",
      "\u001b[1;31mAttributeError\u001b[0m: 'numpy.ndarray' object has no attribute 'simplices'"
     ]
    },
    {
     "data": {
      "image/png": "[encoded data removed]",
      "text/plain": [
       "<Figure size 640x480 with 1 Axes>"
      ]
     },
     "metadata": {},
     "output_type": "display_data"
    }
   ],
   "source": [
    "import numpy as np\n",
    "\n",
    "def convex_hull(points):\n",
    "    # Find the leftmost point in the set of points\n",
    "    start = points[0]\n",
    "    for i in range(1, len(points)):\n",
    "        if points[i][0] < start[0]:\n",
    "            start = points[i]\n",
    "\n",
    "    # Initialize the list to store the points on the convex hull\n",
    "    hull = [start]\n",
    "    # Keep track of the current point\n",
    "    current = start\n",
    "    while True:\n",
    "        # Initialize the next point to be the first point in the set of points\n",
    "        next_point = points[0]\n",
    "        # Loop through the rest of the points in the set\n",
    "        for i in range(1, len(points)):\n",
    "            # If the current point is the same as the next point, skip it\n",
    "            if np.array_equal(points[i], current):\n",
    "                continue\n",
    "            # Check if the cross product of the vectors from the current point to the next point and from the current point to the current next point is positive\n",
    "            cross_product = (points[i][1] - current[1]) * (next_point[0] - current[0]) - (next_point[1] - current[1]) * (points[i][0] - current[0])\n",
    "            # If the cross product is positive or 0 and the next point is closer to the current point than the current next point, update the current next point\n",
    "            if cross_product > 0 or (cross_product == 0 and (points[i][0] - current[0])**2 + (points[i][1] - current[1])**2 < (next_point[0] - current[0])**2 + (next_point[1] - current[1])**2):\n",
    "                next_point = points[i]\n",
    "        # If the next point is the same as the start point, the convex hull has been found\n",
    "        if np.array_equal(next_point, start):\n",
    "            break\n",
    "        # Add the next point to the convex hull\n",
    "        hull.append(next_point)\n",
    "        # Update the current point to be the next point\n",
    "        current = next_point\n",
    "    # Return the convex hull\n",
    "    return np.array(hull)\n",
    "\n",
    "# Example usage:\n",
    "rng = np.random.default_rng()\n",
    "points = rng.random((30, 2)) \n",
    "hull = convex_hull(points)\n",
    "\n",
    "print(hull)\n",
    "\n",
    "import matplotlib.pyplot as plt\n",
    "plt.plot(points[:,0], points[:,1], 'o')\n",
    "for simplex in hull.simplices:\n",
    "    plt.plot(points[simplex, 0], points[simplex, 1], 'k-')\n"
   ]
  }
 ],
 "metadata": {
  "kernelspec": {
   "display_name": "proba",
   "language": "python",
   "name": "python3"
  },
  "language_info": {
   "codemirror_mode": {
    "name": "ipython",
    "version": 3
   },
   "file_extension": ".py",
   "mimetype": "text/x-python",
   "name": "python",
   "nbconvert_exporter": "python",
   "pygments_lexer": "ipython3",
   "version": "3.9.16"
  },
  "orig_nbformat": 4,
  "vscode": {
   "interpreter": {
    "hash": "2dff9fdaf7b94c5adc137ae9efacb6eb17db3d464d727aaf2eb000ed4ad138c2"
   }
  }
 },
 "nbformat": 4,
 "nbformat_minor": 2
}
