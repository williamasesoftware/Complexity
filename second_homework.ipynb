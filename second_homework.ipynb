{
 "cells": [
  {
   "attachments": {},
   "cell_type": "markdown",
   "metadata": {},
   "source": [
    "# Selection sort algorithm"
   ]
  },
  {
   "attachments": {},
   "cell_type": "markdown",
   "metadata": {},
   "source": [
    "<ol>\n",
    "  <li>Get the length of the array.</li>\n",
    "  <li>Loop through the array n - 1 times (Python), where n is the length of the array.</li>\n",
    "  <li>In each iteration of the outer loop, initialize min_index to the current index.</li>\n",
    "  <li>Loop through the rest of the unsorted portion of the array.</li>\n",
    "  <li>In each iteration of the inner loop, compare the current value with the current minimum value.</li>\n",
    "  <li>If the current value is less than the current minimum, update min_index with the index of the current value.</li>\n",
    "  <li>After the inner loop is completed, check if the minimum value is not at the current index.</li>\n",
    "  <li>If the minimum value is not at the current index, swap the current value with the minimum value.</li>\n",
    "  <li>Repeat steps 3 to 8 until all elements have been sorted.</li>\n",
    "  <li>Return the sorted array.</li>\n",
    "</ol>\n",
    "\n"
   ]
  },
  {
   "cell_type": "code",
   "execution_count": 1,
   "metadata": {},
   "outputs": [],
   "source": [
    "def selection_sort(array):\n",
    "    # Get the length of the array\n",
    "    n = len(array)\n",
    "    \n",
    "    # Loop through the array n - 1 times\n",
    "    for i in range(n - 1):\n",
    "        # Initialize min_index to the current index\n",
    "        min_index = i\n",
    "        \n",
    "        # Loop through the rest of the unsorted portion of the array\n",
    "        for j in range(i + 1, n):\n",
    "            # If the current value is less than the current minimum, update min_index\n",
    "            if array[j] < array[min_index]:\n",
    "                min_index = j\n",
    "        \n",
    "        # If the minimum value is not at the current index, swap the current value with the minimum value\n",
    "        if min_index != i:\n",
    "            array[i], array[min_index] = array[min_index], array[i]\n",
    "    \n",
    "    # Return the sorted array\n",
    "    return array\n",
    "\n",
    "# Complexity of the algorithm: O(n^2)"
   ]
  },
  {
   "cell_type": "code",
   "execution_count": 2,
   "metadata": {},
   "outputs": [
    {
     "name": "stdout",
     "output_type": "stream",
     "text": [
      "[11, 12, 22, 25, 64]\n"
     ]
    }
   ],
   "source": [
    "array=[64,25,12,22,11] # example array\n",
    "sorted_array=selection_sort(array) # call to the function\n",
    "print(sorted_array) # sorted array implemented selection sort algorithm"
   ]
  },
  {
   "attachments": {},
   "cell_type": "markdown",
   "metadata": {},
   "source": [
    "## Write the pseudocode to insertion sort and calculate the complexity"
   ]
  },
  {
   "cell_type": "code",
   "execution_count": 3,
   "metadata": {},
   "outputs": [
    {
     "name": "stdout",
     "output_type": "stream",
     "text": [
      "[1, 2, 4, 5, 6, 7]\n"
     ]
    }
   ],
   "source": [
    "def insertion_sort(array):\n",
    "    # Loop through all elements in the array, starting from the second element\n",
    "    for i in range(1, len(array)):\n",
    "        # Assign the current element to a variable 'key_item'\n",
    "        key_item = array[i]\n",
    "        # Set up a variable 'j' to keep track of the position in the sorted portion of the array\n",
    "        j = i - 1\n",
    "        # While 'j' is not less than zero and 'key_item' is less than the element at position 'j'\n",
    "        while j >= 0 and key_item < array[j]:\n",
    "            # Shift the element at position 'j' one position to the right\n",
    "            array[j + 1] = array[j]\n",
    "            # Decrement 'j' to move left one position in the sorted portion\n",
    "            j -= 1\n",
    "        # Insert 'key_item' into the correct position in the sorted portion\n",
    "        array[j + 1] = key_item\n",
    "    # Return the sorted array\n",
    "    return array\n",
    "\n",
    "# Complexity of the algorithm: O(n^2)\n",
    "\n",
    "array = [4,6,1,7,2,5]# example array\n",
    "sorted_array=selection_sort(array) # call to the function\n",
    "print(sorted_array) # sorted array implemented selection sort algorithm\n",
    "\n"
   ]
  },
  {
   "attachments": {},
   "cell_type": "markdown",
   "metadata": {},
   "source": [
    "## Write the pseudocode of a method that given a number n, returns the list of fibonacci numbers, from 0 to n. Calculate the complexity"
   ]
  },
  {
   "cell_type": "code",
   "execution_count": 4,
   "metadata": {},
   "outputs": [
    {
     "name": "stdout",
     "output_type": "stream",
     "text": [
      "[1, 1, 2, 3, 5, 8, 13, 21, 34, 55, 89, 144, 233, 377, 610, 987]\n"
     ]
    }
   ],
   "source": [
    "def fibonacci_sequence(n):\n",
    "    # Initialize the list to store the fibonacci numbers\n",
    "    fib_list = []\n",
    "    # The first two fibonacci numbers are 0 and 1\n",
    "    a, b = 0, 1\n",
    "    # Loop until the next number in the sequence is greater than n\n",
    "    while b <= n:\n",
    "        # Append the next number in the sequence to the list\n",
    "        fib_list.append(b)\n",
    "        # Generate the next number in the sequence\n",
    "        a, b = b, a + b\n",
    "    # Return the list of fibonacci numbers\n",
    "    return fib_list\n",
    "\n",
    "# Complexity of the algorithm: O(n)\n",
    "\n",
    "fibonacci=fibonacci_sequence(1000)\n",
    "print(fibonacci)"
   ]
  },
  {
   "attachments": {},
   "cell_type": "markdown",
   "metadata": {},
   "source": [
    "## Write an algorithm that finds the convex hull"
   ]
  },
  {
   "cell_type": "code",
   "execution_count": 5,
   "metadata": {},
   "outputs": [
    {
     "name": "stdout",
     "output_type": "stream",
     "text": [
      "30\n",
      "[[0.00812351 0.28724409]\n",
      " [0.07976831 0.94951268]\n",
      " [0.81394668 0.97996876]\n",
      " [0.9773514  0.76509485]\n",
      " [0.90878324 0.37899038]\n",
      " [0.80528613 0.04345676]\n",
      " [0.3418572  0.03620196]]\n"
     ]
    },
    {
     "data": {
      "image/png": "[encoded data removed]",
      "text/plain": [
       "<Figure size 640x480 with 1 Axes>"
      ]
     },
     "metadata": {},
     "output_type": "display_data"
    }
   ],
   "source": [
    "import numpy as np\n",
    "import matplotlib.pyplot as plt\n",
    "\n",
    "def convex_hull(points):\n",
    "    # Find the leftmost point in the set of points\n",
    "    start = points[0]\n",
    "    for i in range(1, len(points)):\n",
    "        if points[i][0] < start[0]:\n",
    "            start = points[i]\n",
    "\n",
    "    # Initialize the list to store the points on the convex hull\n",
    "    hull = [start]\n",
    "    # Keep track of the current point\n",
    "    current = start\n",
    "    while True:\n",
    "        # Initialize the next point to be the first point in the set of points\n",
    "        next_point = points[0]\n",
    "        # Loop through the rest of the points in the set\n",
    "        for i in range(1, len(points)):\n",
    "            # If the current point is the same as the next point, skip it\n",
    "            if np.array_equal(points[i], current):\n",
    "                continue\n",
    "            # Check if the cross product of the vectors from the current point to the next point and from the current point to the current next point is positive\n",
    "            cross_product = (points[i][1] - current[1]) * (next_point[0] - current[0]) - (next_point[1] - current[1]) * (points[i][0] - current[0])\n",
    "            # If the cross product is positive or 0 and the next point is closer to the current point than the current next point, update the current next point\n",
    "            if cross_product > 0 or (cross_product == 0 and (points[i][0] - current[0])**2 + (points[i][1] - current[1])**2 < (next_point[0] - current[0])**2 + (next_point[1] - current[1])**2):\n",
    "                next_point = points[i]\n",
    "        # If the next point is the same as the start point, the convex hull has been found\n",
    "        if np.array_equal(next_point, start):\n",
    "            break\n",
    "        # Add the next point to the convex hull\n",
    "        hull.append(next_point)\n",
    "        # Update the current point to be the next point\n",
    "        current = next_point\n",
    "    # Return the convex hull\n",
    "    return np.array(hull)\n",
    "\n",
    "# Complexity of the algorithm: O(n^{2}) for the while anthe for loop\n",
    "\n",
    "# Example usage:\n",
    "rng = np.random.default_rng()\n",
    "points = rng.random((30, 2)) \n",
    "print(len(points))\n",
    "hull = convex_hull(points)\n",
    "\n",
    "print(hull)\n",
    "\n",
    "# Plot the points\n",
    "plt.plot(hull[:,0], hull[:,1], 'o')\n",
    "plt.plot(points[:,0], points[:,1], '+')\n",
    "\n",
    "# Show the plot\n",
    "plt.show()\n",
    "\n",
    "\n"
   ]
  }
 ],
 "metadata": {
  "kernelspec": {
   "display_name": "proba",
   "language": "python",
   "name": "python3"
  },
  "language_info": {
   "codemirror_mode": {
    "name": "ipython",
    "version": 3
   },
   "file_extension": ".py",
   "mimetype": "text/x-python",
   "name": "python",
   "nbconvert_exporter": "python",
   "pygments_lexer": "ipython3",
   "version": "3.9.16"
  },
  "orig_nbformat": 4,
  "vscode": {
   "interpreter": {
    "hash": "2dff9fdaf7b94c5adc137ae9efacb6eb17db3d464d727aaf2eb000ed4ad138c2"
   }
  }
 },
 "nbformat": 4,
 "nbformat_minor": 2
}
