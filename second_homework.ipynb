{
 "cells": [
  {
   "attachments": {},
   "cell_type": "markdown",
   "metadata": {},
   "source": [
    "# Selection sort algorithm"
   ]
  },
  {
   "attachments": {},
   "cell_type": "markdown",
   "metadata": {},
   "source": [
    "<ol>\n",
    "  <li>Get the length of the array.</li>\n",
    "  <li>Loop through the array n - 1 times (Python), where n is the length of the array.</li>\n",
    "  <li>In each iteration of the outer loop, initialize min_index to the current index.</li>\n",
    "  <li>Loop through the rest of the unsorted portion of the array.</li>\n",
    "  <li>In each iteration of the inner loop, compare the current value with the current minimum value.</li>\n",
    "  <li>If the current value is less than the current minimum, update min_index with the index of the current value.</li>\n",
    "  <li>After the inner loop is completed, check if the minimum value is not at the current index.</li>\n",
    "  <li>If the minimum value is not at the current index, swap the current value with the minimum value.</li>\n",
    "  <li>Repeat steps 3 to 8 until all elements have been sorted.</li>\n",
    "  <li>Return the sorted array.</li>\n",
    "</ol>\n",
    "\n"
   ]
  },
  {
   "cell_type": "code",
   "execution_count": 7,
   "metadata": {},
   "outputs": [],
   "source": [
    "def selection_sort(array):\n",
    "    # Get the length of the array\n",
    "    n = len(array)\n",
    "    \n",
    "    # Loop through the array n - 1 times\n",
    "    for i in range(n - 1):\n",
    "        # Initialize min_index to the current index\n",
    "        min_index = i\n",
    "        \n",
    "        # Loop through the rest of the unsorted portion of the array\n",
    "        for j in range(i + 1, n):\n",
    "            # If the current value is less than the current minimum, update min_index\n",
    "            if array[j] < array[min_index]:\n",
    "                min_index = j\n",
    "        \n",
    "        # If the minimum value is not at the current index, swap the current value with the minimum value\n",
    "        if min_index != i:\n",
    "            array[i], array[min_index] = array[min_index], array[i]\n",
    "    \n",
    "    # Return the sorted array\n",
    "    return array\n"
   ]
  },
  {
   "cell_type": "code",
   "execution_count": 6,
   "metadata": {},
   "outputs": [
    {
     "name": "stdout",
     "output_type": "stream",
     "text": [
      "[11, 12, 22, 25, 64]\n"
     ]
    }
   ],
   "source": [
    "array=[64,25,12,22,11] # example array\n",
    "sorted_array=selection_sort(array) # call to the function\n",
    "print(sorted_array) # sorted array implemented selection sort algorithm"
   ]
  }
 ],
 "metadata": {
  "kernelspec": {
   "display_name": "proba",
   "language": "python",
   "name": "python3"
  },
  "language_info": {
   "codemirror_mode": {
    "name": "ipython",
    "version": 3
   },
   "file_extension": ".py",
   "mimetype": "text/x-python",
   "name": "python",
   "nbconvert_exporter": "python",
   "pygments_lexer": "ipython3",
   "version": "3.9.16"
  },
  "orig_nbformat": 4,
  "vscode": {
   "interpreter": {
    "hash": "2dff9fdaf7b94c5adc137ae9efacb6eb17db3d464d727aaf2eb000ed4ad138c2"
   }
  }
 },
 "nbformat": 4,
 "nbformat_minor": 2
}
